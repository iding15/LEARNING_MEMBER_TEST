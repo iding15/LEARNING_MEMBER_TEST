{
 "cells": [
  {
   "cell_type": "markdown",
   "metadata": {},
   "source": [
    "# 지하철 시간표 정보 제공 시스템"
   ]
  },
  {
   "cell_type": "markdown",
   "metadata": {},
   "source": [
    "## HOW TO USE?\n",
    "  \n",
    "  지하철 역과 평일/토요일, 일요일, 상행/하행을 지정하면 지하철 역 시간표를 제공합니다."
   ]
  },
  {
   "cell_type": "code",
   "execution_count": 5,
   "metadata": {},
   "outputs": [
    {
     "name": "stdout",
     "output_type": "stream",
     "text": [
      "  지하철역명 종점지하철역명    도착시간    출발시간\n",
      "0    강남     신설동  054230  054300\n",
      "1    강남     신설동  055600  055630\n",
      "2    강남     신설동  060200  060230\n",
      "3    강남     신설동  060900  060930\n",
      "4    강남     신설동  061500  061530\n",
      "5    강남     신설동  062100  062130\n",
      "6    강남     신설동  062800  062830\n",
      "7    강남     신설동  063500  063530\n",
      "8    강남     신설동  063930  064000\n",
      "9    강남     신설동  064500  064530\n"
     ]
    }
   ],
   "source": [
    "#ex)\n",
    "\n",
    "from model import stationTable\n",
    "from env import showLine\n",
    "from env import searchLine\n",
    "\n",
    "print(stationTable(\"강남역\", \"토요일\", \"상행\"))"
   ]
  },
  {
   "cell_type": "markdown",
   "metadata": {},
   "source": [
    "## 노선 확인"
   ]
  },
  {
   "cell_type": "code",
   "execution_count": 3,
   "metadata": {},
   "outputs": [
    {
     "name": "stdout",
     "output_type": "stream",
     "text": [
      "['수도권 지하철 1호선', '수도권 지하철 2호선', '수도권 지하철 3호선', '수도권 지하철 4호선', '서울 지하철 5호선', '서울 지하철 6호선', '서울 지하철 7호선', '서울 지하철 8호선', '서울 지하철 9호선', '서울 경전철 우이신설선', '수도권 지하철 경강선', '수도권 지하철 경의중앙선', '수도권 지하철 경춘선', '수도권 지하철 분당선', '수도권 지하철 수인선', '신분당선', '용인 경전철', '의정부 경전철', '인천 지하철 1호선', '인천 지하철 2호선', '인천국제공항철도']\n"
     ]
    }
   ],
   "source": [
    "showLine()"
   ]
  },
  {
   "cell_type": "markdown",
   "metadata": {},
   "source": [
    "## 노선별 지하철역 조회"
   ]
  },
  {
   "cell_type": "code",
   "execution_count": 6,
   "metadata": {},
   "outputs": [
    {
     "data": {
      "text/plain": [
       "['가좌역',\n",
       " '강매역',\n",
       " '곡산역',\n",
       " '공덕역',\n",
       " '구리역',\n",
       " '국수역',\n",
       " '금릉역',\n",
       " '금촌역',\n",
       " '능곡역',\n",
       " '대곡역',\n",
       " '덕소역',\n",
       " '도농역',\n",
       " '도심역',\n",
       " '디지털미디어시티역',\n",
       " '망우역',\n",
       " '문산역',\n",
       " '백마역',\n",
       " '상봉역',\n",
       " '서강대역',\n",
       " '서빙고역',\n",
       " '서울역',\n",
       " '수색역',\n",
       " '신원역',\n",
       " '신촌역',\n",
       " '아신역',\n",
       " '야당역',\n",
       " '양수역',\n",
       " '양원역',\n",
       " '양정역',\n",
       " '양평역',\n",
       " '오빈역',\n",
       " '옥수역',\n",
       " '왕십리역',\n",
       " '용문역',\n",
       " '용산역',\n",
       " '운길산역',\n",
       " '운정역',\n",
       " '원덕역',\n",
       " '월롱역',\n",
       " '응봉역',\n",
       " '이촌역',\n",
       " '일산역',\n",
       " '중랑역',\n",
       " '지평역',\n",
       " '청량리역',\n",
       " '탄현역',\n",
       " '파주역',\n",
       " '팔당역',\n",
       " '풍산역',\n",
       " '한남역',\n",
       " '행신역',\n",
       " '홍대입구역',\n",
       " '화전역',\n",
       " '회기역',\n",
       " '효창공원앞역']"
      ]
     },
     "execution_count": 6,
     "metadata": {},
     "output_type": "execute_result"
    }
   ],
   "source": [
    "searchLine('수도권 지하철 경의중앙선')"
   ]
  }
 ],
 "metadata": {
  "kernelspec": {
   "display_name": "Python 3",
   "language": "python",
   "name": "python3"
  },
  "language_info": {
   "codemirror_mode": {
    "name": "ipython",
    "version": 3
   },
   "file_extension": ".py",
   "mimetype": "text/x-python",
   "name": "python",
   "nbconvert_exporter": "python",
   "pygments_lexer": "ipython3",
   "version": "3.6.9"
  }
 },
 "nbformat": 4,
 "nbformat_minor": 2
}
